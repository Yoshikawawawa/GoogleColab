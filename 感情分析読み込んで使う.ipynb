{
  "nbformat": 4,
  "nbformat_minor": 0,
  "metadata": {
    "colab": {
      "provenance": [],
      "collapsed_sections": [
        "Dzkxk8MFTdcp",
        "K3CcFR4xZV27"
      ],
      "mount_file_id": "1-j6BO2CF3lMs6UJI6nzpt4SdFQ5YoqJO",
      "authorship_tag": "ABX9TyNsw3Lkdln/jiA4gEUX7Ego",
      "include_colab_link": true
    },
    "kernelspec": {
      "name": "python3",
      "display_name": "Python 3"
    },
    "language_info": {
      "name": "python"
    },
    "gpuClass": "standard"
  },
  "cells": [
    {
      "cell_type": "markdown",
      "metadata": {
        "id": "view-in-github",
        "colab_type": "text"
      },
      "source": [
        "<a href=\"https://colab.research.google.com/github/Yoshikawawawa/GoogleColab/blob/main/%E6%84%9F%E6%83%85%E5%88%86%E6%9E%90%E8%AA%AD%E3%81%BF%E8%BE%BC%E3%82%93%E3%81%A7%E4%BD%BF%E3%81%86.ipynb\" target=\"_parent\"><img src=\"https://colab.research.google.com/assets/colab-badge.svg\" alt=\"Open In Colab\"/></a>"
      ]
    },
    {
      "cell_type": "markdown",
      "source": [
        "# 準備"
      ],
      "metadata": {
        "id": "Dzkxk8MFTdcp"
      }
    },
    {
      "cell_type": "code",
      "source": [
        "!apt-get -y install fonts-ipafont-gothic\n",
        "!rm /root/.cache/matplotlib/fontlist-v310.json\n",
        "!pip install japanize-matplotlib\n",
        "! pip install transformers datasets\n",
        "! pip install fugashi ipadic\n",
        "!pip install sentencepiece\n",
        "from google.colab import drive\n",
        "drive.mount('/content/drive')"
      ],
      "metadata": {
        "id": "qal-C2pDTaGi"
      },
      "execution_count": null,
      "outputs": []
    },
    {
      "cell_type": "markdown",
      "source": [
        "# 読み込んで使ってみる"
      ],
      "metadata": {
        "id": "K3CcFR4xZV27"
      }
    },
    {
      "cell_type": "code",
      "source": [
        "#from\n",
        "from transformers import AutoTokenizer, AutoModelForSequenceClassification\n",
        "new_tokenizer = AutoTokenizer\\\n",
        "    .from_pretrained(f\"/content/drive/MyDrive\")#保存場所のパスをいれる\n",
        "\n",
        "new_model = AutoModelForSequenceClassification\\\n",
        "    .from_pretrained(f\"/content/drive/MyDrive\")#保存場所のパスを入れる"
      ],
      "metadata": {
        "id": "RbcuKOdMKheX"
      },
      "execution_count": 2,
      "outputs": []
    },
    {
      "cell_type": "code",
      "source": [
        "from pandas.io.parsers.readers import read_csv\n",
        "import matplotlib.pyplot as plt\n",
        "import seaborn as sns\n",
        "import japanize_matplotlib \n",
        "import numpy as np\n",
        "import pandas as pd\n",
        "# ソフトマックス関数\n",
        "# https://www.delftstack.com/ja/howto/numpy/numpy-softmax/\n",
        " \n",
        "def np_softmax(x):\n",
        "    f_x = np.exp(x) / np.sum(np.exp(x))\n",
        "    return f_x\n",
        "\n",
        "def analyze_emotion(text, show_fig=True):\n",
        "    # 推論モードを有効化\n",
        "    new_model.eval()\n",
        "\n",
        "    # 入力データ変換 + 推論\n",
        "    tokens = new_tokenizer(text, truncation=True, return_tensors=\"pt\")\n",
        "    tokens.to(new_model.device)\n",
        "    preds = new_model(**tokens)\n",
        "    prob = np_softmax(preds.logits.cpu().detach().numpy()[0])\n",
        "    emotion_names = ['Anger','Anticipation','Disgust','Fear','Joy','Sadness','Surprise','Trust']\n",
        "    out_dict = {n: p for n, p in zip(emotion_names, prob)}\n",
        "\n",
        "    # 棒グラフを描画\n",
        "    if show_fig:\n",
        "        sns.set(font=\"IPAGothic\")\n",
        "        plt.figure(figsize=(8, 3))\n",
        "        plt.ylim(0, 1.0)\n",
        "        df = pd.DataFrame(out_dict.items(), columns=['name', 'prob'])\n",
        "        sns.barplot(x='name', y='prob', data=df)\n",
        "        plt.title('入力文 : ' + text,fontname=\"IPAGothic\")\n",
        "    else:\n",
        "        print(out_dict)\n",
        "#テキスト入力\n",
        "analyze_emotion(\"君のアホ面には、心底うんざりさせられる\")\n",
        "#plotの文字化けは再起動で直る可能性が高い"
      ],
      "metadata": {
        "colab": {
          "base_uri": "https://localhost:8080/",
          "height": 244
        },
        "id": "xqa85fx6PcOl",
        "outputId": "6e985997-f502-428e-aad2-4350230647e3"
      },
      "execution_count": 5,
      "outputs": [
        {
          "output_type": "display_data",
          "data": {
            "text/plain": [
              "<Figure size 576x216 with 1 Axes>"
            ],
            "image/png": "[encoded data removed]"
          },
          "metadata": {}
        }
      ]
    }
  ]
}